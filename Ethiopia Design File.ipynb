{
 "cells": [
  {
   "cell_type": "markdown",
   "metadata": {
    "slideshow": {
     "slide_type": "slide"
    }
   },
   "source": [
    "# Ethiopia Mapping Section\n",
    "\n",
    "This Python Jupyter file is to calculate and build out the requirements for the Ethiopian design. It could be possible to do this in Excel as well; but this way we have an ability to reference and redesign as per the changing requirements.\n",
    "\n",
    "First Step is to collect the information; I have a Github account under my username (johnmeye) which i will reference from the file so that anyone who uses Conda/Jupyter will be able to get the files. For any challenges reach out to me on teams or by email (johnmeye@cisco.com)"
   ]
  },
  {
   "cell_type": "code",
   "execution_count": null,
   "metadata": {
    "slideshow": {
     "slide_type": "skip"
    }
   },
   "outputs": [],
   "source": [
    "from urllib.request import urlopen\n",
    "import json\n",
    "import pandas as pd\n",
    "import numpy as np\n",
    "import seaborn as sns\n",
    "import matplotlib.pyplot as plt\n",
    "%matplotlib inline\n",
    "\n",
    "#For the Map Plotting\n",
    "import plotly.express as px\n",
    "\n",
    "#Fo the Widgets\n",
    "import ipywidgets as widgets #Importing Widgets to allow for the changing of variables on the fly as questions are asked."
   ]
  },
  {
   "cell_type": "markdown",
   "metadata": {
    "slideshow": {
     "slide_type": "slide"
    }
   },
   "source": [
    "## Geographical Data\n",
    "\n",
    "This file below is from the Ethiopian files available from the database on the following site:\n",
    "https://data.humdata.org/dataset/ethiopia-population-data-_-admin-level-0-3\n",
    "\n",
    "This site has both topography and the Level 0-3 admin data on the population levels per county/province. Vodacom only provided at Admin 1 (Provincial level) for this RFQ; but we are able to go more in depth to try and work out if there is any additional information we can use to strengthen our position.\n",
    "\n",
    "The following section will pull that information from my Github; so that you don't have to fetch it yourself. Then load it as a JSON file into the DB, which you can see are Polygon type files with GPS coordinates which mark out the different layers/levels in the country. "
   ]
  },
  {
   "cell_type": "code",
   "execution_count": null,
   "metadata": {
    "slideshow": {
     "slide_type": "subslide"
    }
   },
   "outputs": [],
   "source": [
    "#Pull the Data I stored in my Github account for the analysis.\n",
    "\n",
    "with urlopen('https://github.com/johnmeye/Ethiopia/raw/master/Ethiopia_JSON/eth_admbnda_adm1_csa_bofed_20190827.json') as response:\n",
    "    counties1 = json.load(response)\n",
    "    \n",
    "with urlopen('https://github.com/johnmeye/Ethiopia/raw/master/Ethiopia_JSON/eth_admbnda_adm2_csa_bofed_20190827.json') as response:\n",
    "    counties2 = json.load(response)\n",
    "    \n",
    "with urlopen('https://github.com/johnmeye/Ethiopia/raw/master/Ethiopia_JSON/eth_admbnda_adm3_csa_bofed_20190827.json') as response:\n",
    "    counties3 = json.load(response)\n",
    "\n",
    "#Feature Data is available in the JSON files but its easier to manage from a tableset so i have pulled this below as well.\n",
    "    \n",
    "Boundaries_Data1 = pd.read_excel(\"https://github.com/johnmeye/Ethiopia/raw/master/eth_adminboundaries_tabulardata.xlsx\",\n",
    "                  sheet_name='Admin1')\n",
    "\n",
    "Boundaries_Data3 = pd.read_excel(\"https://github.com/johnmeye/Ethiopia/raw/master/eth_adminboundaries_tabulardata.xlsx\",\n",
    "                    sheet_name='Admin3')\n"
   ]
  },
  {
   "cell_type": "code",
   "execution_count": null,
   "metadata": {
    "slideshow": {
     "slide_type": "skip"
    }
   },
   "outputs": [],
   "source": [
    "counties3[\"features\"][0]['properties'] #Just a sample on how to pull out specific information from the Counties json Files."
   ]
  },
  {
   "cell_type": "markdown",
   "metadata": {
    "slideshow": {
     "slide_type": "slide"
    }
   },
   "source": [
    "## Admin Level Data\n",
    "\n",
    "As mentioned above; there is both Geo and Admin data; this information matches the information against some paramater; since the file is nicely structured according to standards we will stick to the humanitarian markings. \n",
    "\n",
    "Below i read the information from different levels into the variables for Admin1-3 so that we are able to use them to draw choropleth maps of the country. \n",
    "\n",
    "Once read into memory; it is possible to find matches against the specific parameters in both the GeoJSON and the Admin files. So i run a few sample commands to view what the data looks like. \n",
    "\n"
   ]
  },
  {
   "cell_type": "code",
   "execution_count": null,
   "metadata": {
    "slideshow": {
     "slide_type": "subslide"
    }
   },
   "outputs": [],
   "source": [
    "Admin1 = pd.read_excel(\"https://github.com/johnmeye/Ethiopia/raw/master/ethiopia-population-data-_-admin-level-0-3.xlsx\",\n",
    "                   dtype={\"admin1Pcode\": str},\n",
    "                   skiprows=[1],\n",
    "                   sheet_name='Admin1')\n",
    "\n",
    "Admin2 = pd.read_excel(\"https://github.com/johnmeye/Ethiopia/raw/master/ethiopia-population-data-_-admin-level-0-3.xlsx\",\n",
    "                   dtype={\"admin1Pcode\": str},\n",
    "                   skiprows=[1],\n",
    "                   sheet_name='Admin2')\n",
    "\n",
    "Admin3 = pd.read_excel(\"https://github.com/johnmeye/Ethiopia/raw/master/ethiopia-population-data-_-admin-level-0-3.xlsx\",\n",
    "                   dtype={\"admin1Pcode\": str},\n",
    "                   skiprows=[1],\n",
    "                   sheet_name='Admin3')"
   ]
  },
  {
   "cell_type": "code",
   "execution_count": null,
   "metadata": {},
   "outputs": [],
   "source": [
    "Admin1.info()"
   ]
  },
  {
   "cell_type": "markdown",
   "metadata": {
    "slideshow": {
     "slide_type": "slide"
    }
   },
   "source": [
    "# Plotting the information on a Choropleth map\n",
    "\n",
    "This information that we have gathered above needs to be represented in order to accurately help. \n",
    "\n",
    "Vodacom has provided Admin 1 information so we will plot against the Admin1 codes in the information. \n",
    "\n",
    "I have made it all at different levels so that some code can run quicker if need be."
   ]
  },
  {
   "cell_type": "code",
   "execution_count": null,
   "metadata": {
    "scrolled": false
   },
   "outputs": [],
   "source": [
    "fig = px.choropleth_mapbox(Admin1, \n",
    "                           geojson=counties1, \n",
    "                           locations='admin1Pcode', featureidkey=\"properties.ADM1_PCODE\",\n",
    "                           color='Total Population',\n",
    "                           color_continuous_scale=\"portland\",\n",
    "                           range_color=(500000, 30000000),\n",
    "                           mapbox_style=\"carto-positron\",\n",
    "                           zoom=3, center = {\"lat\": 9, \"lon\": 39},\n",
    "                           opacity=0.5,\n",
    "                           hover_name='admin1Name_en',\n",
    "                           labels={\n",
    "                            'Population_Density':'Population Density',\n",
    "                            'Total_Population':'Total Population',\n",
    "                            'admin1Name_en':'Province',\n",
    "                            'Area_Km':'Square Kilometer'\n",
    "                            },\n",
    "                          )\n",
    "fig.update_layout(margin={\"r\":0,\"t\":0,\"l\":0,\"b\":0})\n",
    "\n",
    "fig.show()\n"
   ]
  },
  {
   "cell_type": "markdown",
   "metadata": {},
   "source": [
    "# Manipulating the data to find the sites requirements\n",
    "\n",
    "Vodacom has provided the Ethiopia site numbers, and the expected by year and by type, although the Vodacom breaks it down by height and rooftop; this might not be necessary from our point of view and should not impact the way we calculate this. \n",
    "\n",
    "For this we will need to figure out how to define rural/urban and so forth."
   ]
  },
  {
   "cell_type": "code",
   "execution_count": null,
   "metadata": {
    "scrolled": true
   },
   "outputs": [],
   "source": [
    "Sites = pd.read_excel(\"https://github.com/johnmeye/Ethiopia/raw/master/TX%20BoQ%20v3-Python.xlsx\",\n",
    "                   sheet_name='Site_Numbers')\n",
    "\n",
    "Sites.rename(columns = {'Location':'admin1Name_en'}, inplace = True)\n",
    "Site_Year = Sites.groupby(['admin1Name_en']).sum()\n",
    "TotalSites = pd.merge(Site_Year, Boundaries_Data1[['admin1Name_en', 'Shape_Area']],how='left', on=['admin1Name_en']) #Site combined with the geodata. Sizing found early.\n",
    "TotalSites.rename(columns = {'Shape_Area':'Shape_Area_Admin1'}, inplace = True)\n",
    "\n",
    "print(TotalSites)\n",
    "\n"
   ]
  },
  {
   "cell_type": "code",
   "execution_count": null,
   "metadata": {},
   "outputs": [],
   "source": [
    "TotalSites.sum(axis = 0, skipna = True)"
   ]
  },
  {
   "cell_type": "code",
   "execution_count": null,
   "metadata": {},
   "outputs": [],
   "source": [
    "SiteTable = pd.merge(Admin3, TotalSites, how='outer', on=['admin1Name_en']) #Site by year"
   ]
  },
  {
   "cell_type": "code",
   "execution_count": null,
   "metadata": {},
   "outputs": [],
   "source": [
    "SiteTable.replace(to_replace=0, value=np.nan, inplace=True)"
   ]
  },
  {
   "cell_type": "code",
   "execution_count": null,
   "metadata": {},
   "outputs": [],
   "source": [
    "Fulltable = pd.merge(SiteTable, Boundaries_Data3[['admin3Pcode', 'Shape_Area']],how='left', on=['admin3Pcode']) #Site combined with the geodata. Sizing found early.\n",
    "\n",
    "Fulltable.sample()"
   ]
  },
  {
   "cell_type": "code",
   "execution_count": null,
   "metadata": {},
   "outputs": [],
   "source": [
    "Fulltable['Shape_Area'] = Fulltable['Shape_Area'].fillna(0)"
   ]
  },
  {
   "cell_type": "code",
   "execution_count": null,
   "metadata": {},
   "outputs": [],
   "source": [
    "is_NaN = pd.isnull(Fulltable['Shape_Area'])"
   ]
  },
  {
   "cell_type": "code",
   "execution_count": null,
   "metadata": {
    "scrolled": false
   },
   "outputs": [],
   "source": [
    "Fulltable[is_NaN]  "
   ]
  },
  {
   "cell_type": "markdown",
   "metadata": {},
   "source": [
    "### TODO: \n",
    "Plan is to create a dynamic image with the section below so that you can switch between the years and view what is happening."
   ]
  },
  {
   "cell_type": "code",
   "execution_count": null,
   "metadata": {},
   "outputs": [],
   "source": [
    "#fig = px.choropleth_mapbox(Fulltable, \n",
    "#                           geojson=counties1, \n",
    "#                           locations='admin1Name_en', featureidkey=\"properties.ADM1_EN\",\n",
    "#                           color='Year1',\n",
    "#                           color_continuous_scale=\"portland\",\n",
    "#                           range_color=(0, 350),\n",
    "#                           mapbox_style=\"carto-positron\",\n",
    "#                           zoom=3, center = {\"lat\": 9, \"lon\": 39},\n",
    "#                           opacity=0.5,\n",
    "#                           \n",
    "#                          )\n",
    "#fig.update_layout(margin={\"r\":0,\"t\":0,\"l\":0,\"b\":0})\n",
    "#fig.show()"
   ]
  },
  {
   "cell_type": "markdown",
   "metadata": {},
   "source": [
    "# Calculating population density\n",
    "\n",
    "The files provide a value for the size of the land and the overall land coverage. 1,104,300 square Km is the total size of the land in question. The following section shows the calculations used to determine the density for the various provinces. Which we are then able to use for the density and Rural/Urban calculations."
   ]
  },
  {
   "cell_type": "code",
   "execution_count": null,
   "metadata": {},
   "outputs": [],
   "source": [
    "Ethiopia_Area = 1104300\n",
    "Ethiopia_Shape_Area = Fulltable['Shape_Area'].sum()\n",
    "Unit_Area = Ethiopia_Area / Ethiopia_Shape_Area\n",
    "Fulltable['Area_Km'] = Fulltable['Shape_Area'].apply(lambda x: x*Unit_Area)\n",
    "Fulltable.rename(columns = {'Total Population':'Total_Population'}, inplace = True)\n",
    "Fulltable.info()"
   ]
  },
  {
   "cell_type": "code",
   "execution_count": null,
   "metadata": {},
   "outputs": [],
   "source": [
    "def POPDENSITY(Population,Area):\n",
    "    try:\n",
    "        Density=Population/Area\n",
    "        return Density\n",
    "    except ZeroDivisionError:\n",
    "        return 0\n",
    "\n",
    "Fulltable['Population_Density'] = Fulltable.apply(lambda x: POPDENSITY(x.Total_Population, x.Area_Km), axis=1)"
   ]
  },
  {
   "cell_type": "code",
   "execution_count": null,
   "metadata": {},
   "outputs": [],
   "source": [
    "Fulltable['Population_Density'].sample(10)"
   ]
  },
  {
   "cell_type": "code",
   "execution_count": null,
   "metadata": {},
   "outputs": [],
   "source": [
    "plt.figure(figsize=(15,10))\n",
    "plt.tight_layout()\n",
    "sns.boxplot(x=\"admin1Name_en\", y=\"Total_Population\", data=Fulltable,palette='rainbow')\n",
    "plt.show()"
   ]
  },
  {
   "cell_type": "code",
   "execution_count": null,
   "metadata": {},
   "outputs": [],
   "source": [
    "def CHOROMAP(DF,JSON,LOCATION,FEATUREKEY,COLOR,RANGE_L,RANGE_U, TITLE):\n",
    "    Figure = px.choropleth_mapbox(DF, \n",
    "                        geojson=JSON, \n",
    "                        locations=LOCATION, featureidkey=FEATUREKEY,\n",
    "                        color=COLOR,\n",
    "                        color_continuous_scale=\"portland\",\n",
    "                        range_color=(RANGE_L, RANGE_U),\n",
    "                        mapbox_style=\"carto-positron\",\n",
    "                        zoom=3, center = {\"lat\": 9, \"lon\": 39},\n",
    "                        opacity=0.5,\n",
    "                        hover_name='admin3Name_en',\n",
    "                        hover_data=[\"admin1Name_en\", \"Total_Population\", \"Area_Km\"],\n",
    "                        labels={\n",
    "                            'Population_Density':'Population Density',\n",
    "                            'Total_Population':'Total Population',\n",
    "                            'admin1Name_en':'Province',\n",
    "                            'Area_Km':'Square Kilometer'\n",
    "                        },\n",
    "                        title = TITLE\n",
    "                        )\n",
    "    \n",
    "    Figure.update_layout(margin={\"r\":0,\"t\":0,\"l\":0,\"b\":0})\n",
    "    return Figure\n",
    "\n",
    "JSON_ON     = counties3\n",
    "Location_ON = 'admin3Pcode'\n",
    "Feature_ON  = 'properties.ADM3_PCODE'\n",
    "\n",
    "Color_ON    = 'Total_Population'\n",
    "\n",
    "Pop_Map = CHOROMAP(Fulltable,JSON_ON, Location_ON, Feature_ON, Color_ON, 25000, 300000,'Population')\n",
    "\n",
    "Color_ON    = 'Population_Density'\n",
    "\n",
    "Dens_Map = CHOROMAP(Fulltable,JSON_ON, Location_ON, Feature_ON, Color_ON, 50, 500,'Population Density')\n"
   ]
  },
  {
   "cell_type": "code",
   "execution_count": null,
   "metadata": {},
   "outputs": [],
   "source": [
    "Pop_Map.show()\n",
    "Dens_Map.show()"
   ]
  },
  {
   "cell_type": "markdown",
   "metadata": {},
   "source": [
    "# Figuring out the site types\n",
    "\n",
    "This is the step just prior to working out how many of each kind of router we will need. Now that we know about the different population densities; we can catagories them into the different catagories that they have provided for us. \n",
    "\n",
    "Catagories are: \n",
    "1. Dense-Urban\n",
    "2. Urban\n",
    "3. Sub-Urban\n",
    "3. Rural\n",
    "4. Deep-Rural\n",
    "\n",
    "The result of this catagorising would be that the system would then know how the access type needs to be designed. The following image shows how they expect it to be.\n",
    "\n",
    "![Microwave Connection](SiteConnection.png)\n",
    "\n",
    "The breakdown would require then that there are specific rules in place for how many towers per catagory before we have a fibre connection. \n",
    "\n",
    "The Ethiopian Access Microwave network needs to ensure the highest level of stability. It is also important that network remains congestion free during failures. Therefore, the following guidelines should be adhered to:\n",
    "\n",
    "1. Maximum of 4 Microwave Hops in a chain, 3 Hops in a chain according to capacities of the Vodafone calculator. The 4th hop (closest to the traditional BSC or aggregation backhaul point) needs to be protected. Plan for double the capacity required. These N+0 links must be used.\n",
    "2. 5 Microwave sites in a star configuration (1st hop closest to the traditional BSC or aggregation point needs to be protected, planned for double capacity)\n",
    "3. 4 Microwave Hops in chain protected by a full Microwave Ring \n",
    "4. 4 Microwave Hops in chain protected by a Mixed MW and Fibre Ring\n",
    "5. Mesh topology with multiple aggregation points\n",
    "\n",
    "The following image shows the planned layout of the network as per the Ethiotel backbone.\n",
    "\n",
    "![Core Network](Core_Network.jpg)\n",
    "\n"
   ]
  },
  {
   "cell_type": "code",
   "execution_count": null,
   "metadata": {},
   "outputs": [],
   "source": [
    "plt.figure(figsize=(15,10))\n",
    "plt.tight_layout()\n",
    "sns.boxplot(x=\"admin1Name_en\", y=\"Population_Density\", data=Fulltable,palette='rainbow')\n"
   ]
  },
  {
   "cell_type": "markdown",
   "metadata": {},
   "source": [
    "## Understanding the population density\n",
    "\n",
    "The above figure shows that there is a some extremely dense portions of the country, Addis, Dire, Tigray, with some outlier towns in many of the other regions.\n",
    "\n",
    "I suspect though that the towns might be showing as overly dense because rural people register at the towns and push up the numbers artificially. \n",
    "\n",
    "But we have two pieces of information which will help to decide what we do.\n",
    "\n",
    "1. The population for a specific area\n",
    "2. The calculated population density for an area which is calculated from the total country size and the region size.\n",
    "\n",
    "Using these two together we should be able to place the regions into specific buckets. \n",
    "\n",
    "1. Dense Urban = Population Denser then 1000 people per km^2\n",
    "2. Urban = Population Denser then 500 people but less then 1000 people per km^2\n",
    "3. Sub-Urban = Population density between 200 and 500 people per km^2\n",
    "4. Rural = Population density between 100 and 200 people per km^2\n",
    "5. Deep-Rural = Population density less then 100 people per km^2\n",
    "\n",
    "### Todo: Make this a dropdown so that we can select the range of each one to play around with it and figure out what is best."
   ]
  },
  {
   "cell_type": "code",
   "execution_count": null,
   "metadata": {},
   "outputs": [],
   "source": [
    "DU_Thresh = 1000\n",
    "U_Thresh = 500\n",
    "SU_Thresh = 200\n",
    "R_Thresh = 100\n",
    "DR_Thresh = 0\n",
    "\n",
    "def AREA_TYPE(Population_Density):\n",
    "    if Population_Density >= DU_Thresh:\n",
    "        return 'Dense Urban'\n",
    "    elif U_Thresh <= Population_Density < DU_Thresh:\n",
    "        return 'Urban'\n",
    "    elif SU_Thresh <= Population_Density < U_Thresh:\n",
    "        return 'Sub-Urban'\n",
    "    elif R_Thresh <= Population_Density < SU_Thresh:\n",
    "        return 'Rural'\n",
    "    else:\n",
    "        return 'Deep Rural'\n",
    "\n",
    "Fulltable['Area_Type'] = Fulltable.apply(lambda x: AREA_TYPE(x.Population_Density), axis=1)"
   ]
  },
  {
   "cell_type": "code",
   "execution_count": null,
   "metadata": {},
   "outputs": [],
   "source": [
    "Fulltable['Area_Type'].value_counts()"
   ]
  },
  {
   "cell_type": "code",
   "execution_count": null,
   "metadata": {},
   "outputs": [],
   "source": [
    "Fulltable[Fulltable['admin1Name_en']=='Addis Ababa']['Area_Type'].value_counts()"
   ]
  },
  {
   "cell_type": "markdown",
   "metadata": {},
   "source": [
    "# Using Area_Type to define what Routers will be needed\n",
    "\n",
    "## Information available\n",
    "\n",
    "The Choropleth map can not be subdivided into regions and sites. We have the information on the following to help make this decision\n",
    "\n",
    "1. Population in an area\n",
    "2. Size of an area\n",
    "3. Type of area\n",
    "4. Number of sites planned by vodacom for the area\n",
    "\n",
    "## Site counts\n",
    "\n",
    "Vodacom has given the number of sites it plans on a provincial level. But as can already be seen by the images above, the sites are extremely large and should be broken down further. Their methods they used was to break up the area types per year, Rural/Suburban etc... The question now comes in on how to approach this division. \n",
    "\n",
    "## Site connectivity\n",
    "With this information we should be able to make the decision of how to split up the sites and how to connect them.\n",
    "\n",
    "The breakdown is as follows:\n",
    "\n",
    "1. For Rural and Deep Rural; the sites will all be MW linking back to the backhaul via MW sites. \n",
    "2. For Sub-Urban we will be able to have a mix of MW and Fibre, back to the nearest Urban location. Typically less then 80km away. \n",
    "3. For the Urbun and Dense-Urbun, we will be able to have fibre exclusively according to Vodacom planning.\n"
   ]
  },
  {
   "cell_type": "code",
   "execution_count": null,
   "metadata": {},
   "outputs": [],
   "source": [
    "for i in Fulltable.admin1Name_en.unique():\n",
    "    \n",
    "    Area_Breakdown = Fulltable[Fulltable['admin1Name_en']== i]['Area_Type'].value_counts()\n",
    "    print(i)\n",
    "    print(Area_Breakdown)\n"
   ]
  },
  {
   "cell_type": "code",
   "execution_count": null,
   "metadata": {},
   "outputs": [],
   "source": [
    "dfDU = Fulltable[Fulltable['Area_Type']=='Dense Urban']\n",
    "dfU = Fulltable[Fulltable['Area_Type']=='Urban']\n",
    "dfSU = Fulltable[Fulltable['Area_Type']=='Sub-Urban']\n",
    "dfR = Fulltable[Fulltable['Area_Type']=='Rural']\n",
    "dfDR = Fulltable[Fulltable['Area_Type']=='Deep Rural']"
   ]
  },
  {
   "cell_type": "code",
   "execution_count": null,
   "metadata": {},
   "outputs": [],
   "source": [
    "def CHOROMAP(DF,JSON,LOCATION,FEATUREKEY,COLOR,RANGE_L,RANGE_U, TITLE):\n",
    "    Figure = px.choropleth_mapbox(DF, \n",
    "                        geojson=JSON, \n",
    "                        locations=LOCATION, featureidkey=FEATUREKEY,\n",
    "                        color=COLOR,\n",
    "                        color_continuous_scale=\"portland\",\n",
    "                        range_color=(RANGE_L, RANGE_U),\n",
    "                        mapbox_style=\"carto-positron\",\n",
    "                        zoom=3, center = {\"lat\": 9, \"lon\": 39},\n",
    "                        opacity=0.5,\n",
    "                        hover_name='admin3Name_en',\n",
    "                        hover_data=[\"admin1Name_en\", \"Total_Population\", \"Area_Km\"],\n",
    "                        labels={\n",
    "                            'Population_Density':'Population Density',\n",
    "                            'Total_Population':'Total Population',\n",
    "                            'admin1Name_en':'Province',\n",
    "                            'Area_Km':'Square Kilometer'\n",
    "                                },\n",
    "                        title = TITLE\n",
    "                          )\n",
    "    \n",
    "    Figure.update_layout(margin={\"r\":0,\"t\":0,\"l\":0,\"b\":0})\n",
    "    return Figure\n",
    "\n",
    "JSON_ON     = counties3\n",
    "Location_ON = 'admin3Pcode'\n",
    "Feature_ON  = 'properties.ADM3_PCODE'\n",
    "Color_ON    = 'Population_Density'\n",
    "\n",
    "DU_Map = CHOROMAP(dfDU,JSON_ON, Location_ON, Feature_ON, Color_ON, DU_Thresh, 5000,'Dense Urban')\n",
    "U_Map  = CHOROMAP(dfU,JSON_ON, Location_ON, Feature_ON, Color_ON, U_Thresh, DU_Thresh, 'Urban')\n",
    "SU_Map = CHOROMAP(dfSU,JSON_ON, Location_ON, Feature_ON, Color_ON, SU_Thresh, U_Thresh, 'Sub Urban')\n",
    "R_Map  = CHOROMAP(dfR,JSON_ON, Location_ON, Feature_ON, Color_ON, R_Thresh, SU_Thresh, 'Rural')\n",
    "DR_Map = CHOROMAP(dfDR,JSON_ON, Location_ON, Feature_ON, Color_ON, DR_Thresh, R_Thresh, 'Deep Rural')\n",
    "\n"
   ]
  },
  {
   "cell_type": "code",
   "execution_count": null,
   "metadata": {},
   "outputs": [],
   "source": [
    "DU_Map.show()\n",
    "DR_Map.show()"
   ]
  }
 ],
 "metadata": {
  "kernelspec": {
   "display_name": "Python 3",
   "language": "python",
   "name": "python3"
  },
  "language_info": {
   "codemirror_mode": {
    "name": "ipython",
    "version": 3
   },
   "file_extension": ".py",
   "mimetype": "text/x-python",
   "name": "python",
   "nbconvert_exporter": "python",
   "pygments_lexer": "ipython3",
   "version": "3.7.6"
  }
 },
 "nbformat": 4,
 "nbformat_minor": 4
}
