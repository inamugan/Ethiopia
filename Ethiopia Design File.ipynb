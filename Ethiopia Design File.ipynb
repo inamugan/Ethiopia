{
 "cells": [
  {
   "cell_type": "markdown",
   "metadata": {},
   "source": [
    "# Ethiopia Mapping Section\n",
    "\n",
    "This Python Jupyter file is to calculate and build out the requirements for the Ethiopian design. It could be possible to do this in Excel as well; but this way we have an ability to reference and redesign as per the changing requirements.\n",
    "\n",
    "First Step is to collect the information; I have a Github account under my username (johnmeye) which i will reference from the file so that anyone who uses Conda/Jupyter will be able to get the files. For any challenges reach out to me on teams or by email (johnmeye@cisco.com)"
   ]
  },
  {
   "cell_type": "code",
   "execution_count": null,
   "metadata": {},
   "outputs": [],
   "source": [
    "from urllib.request import urlopen\n",
    "import json\n",
    "import pandas as pd\n",
    "import numpy as np\n",
    "import seaborn as sns\n",
    "\n",
    "%matplotlib inline\n",
    "\n",
    "import ipywidgets as widgets #Importing Widgets to allow for the changing of variables on the fly as questions are asked."
   ]
  },
  {
   "cell_type": "markdown",
   "metadata": {},
   "source": [
    "## Geographical Data\n",
    "\n",
    "This file below is from the Ethiopian files available from the database on the following site:\n",
    "https://data.humdata.org/dataset/ethiopia-population-data-_-admin-level-0-3\n",
    "\n",
    "This site has both topography and the Level 0-3 admin data on the population levels per county/province. Vodacom only provided at Admin 1 (Provincial level) for this RFQ; but we are able to go more in depth to try and work out if there is any additional information we can use to strengthen our position.\n",
    "\n",
    "The following section will pull that information from my Github; so that you don't have to fetch it yourself. Then load it as a JSON file into the DB, which you can see are Polygon type files with GPS coordinates which mark out the different layers/levels in the country. "
   ]
  },
  {
   "cell_type": "code",
   "execution_count": null,
   "metadata": {},
   "outputs": [],
   "source": [
    "#Pull the Data I stored in my Github account for the analysis.\n",
    "\n",
    "with urlopen('https://github.com/johnmeye/Ethiopia/raw/master/Ethiopia_JSON/eth_admbnda_adm1_csa_bofed_20190827.json') as response:\n",
    "    counties1 = json.load(response)\n",
    "    \n",
    "with urlopen('https://github.com/johnmeye/Ethiopia/raw/master/Ethiopia_JSON/eth_admbnda_adm2_csa_bofed_20190827.json') as response:\n",
    "    counties2 = json.load(response)\n",
    "    \n",
    "with urlopen('https://github.com/johnmeye/Ethiopia/raw/master/Ethiopia_JSON/eth_admbnda_adm3_csa_bofed_20190827.json') as response:\n",
    "    counties3 = json.load(response)\n",
    "\n",
    "#Feature Data is available in the JSON files but its easier to manage from a tableset so i have pulled this below as well.\n",
    "    \n",
    "Boundaries_Data1 = pd.read_excel(\"https://github.com/johnmeye/Ethiopia/raw/master/eth_adminboundaries_tabulardata.xlsx\",\n",
    "                  sheet_name='Admin1')\n",
    "\n",
    "Boundaries_Data3 = pd.read_excel(\"https://github.com/johnmeye/Ethiopia/raw/master/eth_adminboundaries_tabulardata.xlsx\",\n",
    "                    sheet_name='Admin3')\n"
   ]
  },
  {
   "cell_type": "code",
   "execution_count": null,
   "metadata": {},
   "outputs": [],
   "source": [
    "counties3[\"features\"][0]['properties'] #Just a sample on how to pull out specific information from the Counties json Files."
   ]
  },
  {
   "cell_type": "markdown",
   "metadata": {},
   "source": [
    "## Admin Level Data\n",
    "\n",
    "As mentioned above; there is both Geo and Admin data; this information matches the information against some paramater; since the file is nicely structured according to standards we will stick to the humanitarian markings. \n",
    "\n",
    "Below i read the information from different levels into the variables for Admin1-3 so that we are able to use them to draw choropleth maps of the country. \n",
    "\n",
    "Once read into memory; it is possible to find matches against the specific parameters in both the GeoJSON and the Admin files. So i run a few sample commands to view what the data looks like. \n",
    "\n"
   ]
  },
  {
   "cell_type": "code",
   "execution_count": null,
   "metadata": {},
   "outputs": [],
   "source": [
    "Admin1 = pd.read_excel(\"https://github.com/johnmeye/Ethiopia/raw/master/ethiopia-population-data-_-admin-level-0-3.xlsx\",\n",
    "                   dtype={\"admin1Pcode\": str},\n",
    "                   skiprows=[1],\n",
    "                   sheet_name='Admin1')\n",
    "\n",
    "Admin2 = pd.read_excel(\"https://github.com/johnmeye/Ethiopia/raw/master/ethiopia-population-data-_-admin-level-0-3.xlsx\",\n",
    "                   dtype={\"admin1Pcode\": str},\n",
    "                   skiprows=[1],\n",
    "                   sheet_name='Admin2')\n",
    "\n",
    "Admin3 = pd.read_excel(\"https://github.com/johnmeye/Ethiopia/raw/master/ethiopia-population-data-_-admin-level-0-3.xlsx\",\n",
    "                   dtype={\"admin1Pcode\": str},\n",
    "                   skiprows=[1],\n",
    "                   sheet_name='Admin3')"
   ]
  },
  {
   "cell_type": "markdown",
   "metadata": {},
   "source": [
    "# Plotting the information on a Choropleth map\n",
    "\n",
    "This information that we have gathered above needs to be represented in order to accurately help. \n",
    "\n",
    "Vodacom has provided Admin 1 information so we will plot against the Admin1 codes in the information. \n",
    "\n",
    "I have made it all at different levels so that some code can run quicker if need be."
   ]
  },
  {
   "cell_type": "code",
   "execution_count": null,
   "metadata": {},
   "outputs": [],
   "source": [
    "import plotly.express as px"
   ]
  },
  {
   "cell_type": "code",
   "execution_count": null,
   "metadata": {},
   "outputs": [],
   "source": [
    "fig = px.choropleth_mapbox(Admin1, \n",
    "                           geojson=counties1, \n",
    "                           locations='admin1Pcode', featureidkey=\"properties.ADM1_PCODE\",\n",
    "                           color='Total Population',\n",
    "                           color_continuous_scale=\"portland\",\n",
    "                           range_color=(500000, 30000000),\n",
    "                           mapbox_style=\"carto-positron\",\n",
    "                           zoom=3, center = {\"lat\": 9, \"lon\": 39},\n",
    "                           opacity=0.5,\n",
    "                           labels={'Total Population':'Total Population'}\n",
    "                          )\n",
    "fig.update_layout(margin={\"r\":0,\"t\":0,\"l\":0,\"b\":0})\n",
    "\n",
    "#fig2 = px.choropleth_mapbox(Admin3, \n",
    "#                           geojson=counties3, \n",
    "#                           locations='admin3Pcode', featureidkey=\"properties.ADM3_PCODE\",\n",
    "#                           color='Total Population',\n",
    "#                           color_continuous_scale=\"portland\",\n",
    "#                           range_color=(25000, 300000),\n",
    "#                           mapbox_style=\"carto-positron\",\n",
    "#                           zoom=3, center = {\"lat\": 9, \"lon\": 39},\n",
    "#                           opacity=0.5,\n",
    "#                           labels={'Total Population':'Total Population'}\n",
    "#                          )\n",
    "#fig2.update_layout(margin={\"r\":0,\"t\":0,\"l\":0,\"b\":0})\n",
    "#\n",
    "fig.show()\n",
    "#fig2.show()"
   ]
  },
  {
   "cell_type": "markdown",
   "metadata": {},
   "source": [
    "# Manipulating the data to find the sites requirements\n",
    "\n",
    "Vodacom has provided the Ethiopia site numbers, and the expected by year and by type, although the Vodacom breaks it down by height and rooftop; this might not be necessary from our point of view and should not impact the way we calculate this. \n",
    "\n",
    "For this we will need to figure out how to define rural/urban and so forth."
   ]
  },
  {
   "cell_type": "code",
   "execution_count": null,
   "metadata": {},
   "outputs": [],
   "source": [
    "Sites = pd.read_excel(\"https://github.com/johnmeye/Ethiopia/raw/master/TX%20BoQ%20v3-Python.xlsx\",\n",
    "                   sheet_name='Site_Numbers')\n",
    "\n",
    "Sites.rename(columns = {'Location':'admin1Name_en'}, inplace = True)\n",
    "\n",
    "Site_Year = Sites.groupby(['admin1Name_en']).sum()\n",
    "\n",
    "TotalSites = pd.merge(Site_Year, Boundaries_Data1[['admin1Name_en', 'Shape_Area']],how='left', on=['admin1Name_en']) #Site combined with the geodata. Sizing found early.\n",
    "\n",
    "TotalSites.rename(columns = {'Shape_Area':'Shape_Area_Admin1'}, inplace = True)\n",
    "\n",
    "print(TotalSites)\n",
    "\n"
   ]
  },
  {
   "cell_type": "code",
   "execution_count": null,
   "metadata": {},
   "outputs": [],
   "source": [
    "TotalSites.sum(axis = 0, skipna = True)"
   ]
  },
  {
   "cell_type": "code",
   "execution_count": null,
   "metadata": {},
   "outputs": [],
   "source": [
    "SiteTable = pd.merge(Admin3, TotalSites, how='outer', on=['admin1Name_en']) #Site by year"
   ]
  },
  {
   "cell_type": "code",
   "execution_count": null,
   "metadata": {},
   "outputs": [],
   "source": [
    "SiteTable.replace(to_replace=0, value=np.nan, inplace=True)"
   ]
  },
  {
   "cell_type": "code",
   "execution_count": null,
   "metadata": {},
   "outputs": [],
   "source": [
    "Fulltable = pd.merge(SiteTable, Boundaries_Data3[['admin3Pcode', 'Shape_Area']],how='left', on=['admin3Pcode']) #Site combined with the geodata. Sizing found early.\n",
    "\n",
    "print(Fulltable)"
   ]
  },
  {
   "cell_type": "code",
   "execution_count": null,
   "metadata": {},
   "outputs": [],
   "source": [
    "Fulltable['Shape_Area'] = Fulltable['Shape_Area'].fillna(0)"
   ]
  },
  {
   "cell_type": "code",
   "execution_count": null,
   "metadata": {},
   "outputs": [],
   "source": [
    "is_NaN = pd.isnull(Fulltable['Shape_Area'])"
   ]
  },
  {
   "cell_type": "code",
   "execution_count": null,
   "metadata": {
    "scrolled": false
   },
   "outputs": [],
   "source": [
    "Fulltable[is_NaN]  "
   ]
  },
  {
   "cell_type": "markdown",
   "metadata": {},
   "source": [
    "### TODO: \n",
    "Plan is to create a dynamic image with the section below so that you can switch between the years and view what is happening."
   ]
  },
  {
   "cell_type": "code",
   "execution_count": null,
   "metadata": {},
   "outputs": [],
   "source": [
    "#fig = px.choropleth_mapbox(Fulltable, \n",
    "#                           geojson=counties1, \n",
    "#                           locations='admin1Name_en', featureidkey=\"properties.ADM1_EN\",\n",
    "#                           color='Year1',\n",
    "#                           color_continuous_scale=\"portland\",\n",
    "#                           range_color=(0, 350),\n",
    "#                           mapbox_style=\"carto-positron\",\n",
    "#                           zoom=3, center = {\"lat\": 9, \"lon\": 39},\n",
    "#                           opacity=0.5,\n",
    "#                           \n",
    "#                          )\n",
    "#fig.update_layout(margin={\"r\":0,\"t\":0,\"l\":0,\"b\":0})\n",
    "#fig.show()"
   ]
  },
  {
   "cell_type": "markdown",
   "metadata": {},
   "source": [
    "# Calculating population density\n",
    "\n",
    "The files provide a value for the size of the land and the overall land coverage. 1,104,300 square Km is the total size of the land in question. The following section shows the calculations used to determine the density for the various provinces. Which we are then able to use for the density and Rural/Urban calculations."
   ]
  },
  {
   "cell_type": "code",
   "execution_count": null,
   "metadata": {},
   "outputs": [],
   "source": [
    "Ethiopia_Area = 1104300\n",
    "Ethiopia_Shape_Area = Fulltable['Shape_Area'].sum()\n",
    "Unit_Area = Ethiopia_Area / Ethiopia_Shape_Area\n",
    "Fulltable['Area_Km'] = Fulltable['Shape_Area'].apply(lambda x: x*Unit_Area)\n",
    "Fulltable.rename(columns = {'Total Population':'Total_Population'}, inplace = True)\n",
    "Fulltable.info()"
   ]
  },
  {
   "cell_type": "code",
   "execution_count": null,
   "metadata": {},
   "outputs": [],
   "source": [
    "def PopDensity(Population,Area):\n",
    "    try:\n",
    "        Density=Population/Area\n",
    "        return Density\n",
    "    except ZeroDivisionError:\n",
    "        return 0\n",
    "\n",
    "Fulltable['Population_Density'] = Fulltable.apply(lambda x: PopDensity(x.Total_Population, x.Area_Km), axis=1)"
   ]
  },
  {
   "cell_type": "code",
   "execution_count": null,
   "metadata": {},
   "outputs": [],
   "source": [
    "Fulltable['Population_Density'].sort_values().tail(15)"
   ]
  },
  {
   "cell_type": "code",
   "execution_count": null,
   "metadata": {},
   "outputs": [],
   "source": [
    "sns.boxplot(x=\"admin1Name_en\", y=\"Total_Population\", data=Fulltable,palette='rainbow')"
   ]
  },
  {
   "cell_type": "code",
   "execution_count": null,
   "metadata": {},
   "outputs": [],
   "source": [
    "fig1 = px.choropleth_mapbox(Fulltable, \n",
    "                           geojson=counties3, \n",
    "                           locations='admin3Pcode', featureidkey=\"properties.ADM3_PCODE\",\n",
    "                           color='Total_Population',\n",
    "                           color_continuous_scale=\"portland\",\n",
    "                           range_color=(25000, 300000),\n",
    "                           mapbox_style=\"carto-positron\",\n",
    "                           zoom=3, center = {\"lat\": 9, \"lon\": 39},\n",
    "                           opacity=0.5,\n",
    "                           labels={'Total_Population':'Total_Population'}\n",
    "                          )\n",
    "fig1.update_layout(margin={\"r\":0,\"t\":0,\"l\":0,\"b\":0})\n",
    "fig1.show()"
   ]
  },
  {
   "cell_type": "code",
   "execution_count": null,
   "metadata": {},
   "outputs": [],
   "source": [
    "fig2 = px.choropleth_mapbox(Fulltable, \n",
    "                           geojson=counties3, \n",
    "                           locations='admin3Pcode', featureidkey=\"properties.ADM3_PCODE\",\n",
    "                           color='Population_Density',\n",
    "                           color_continuous_scale=\"portland\",\n",
    "                           range_color=(50, 450),\n",
    "                           mapbox_style=\"carto-positron\",\n",
    "                           zoom=3, center = {\"lat\": 9, \"lon\": 39},\n",
    "                           opacity=0.5,\n",
    "                           labels={'Population_Density':'Population_Density'}\n",
    "                          )\n",
    "fig2.update_layout(margin={\"r\":0,\"t\":0,\"l\":0,\"b\":0})\n",
    "\n",
    "fig2.show()"
   ]
  },
  {
   "cell_type": "markdown",
   "metadata": {},
   "source": [
    "# Todo\n",
    "\n",
    "Do bar/wisker plot of density by province/area for this "
   ]
  },
  {
   "cell_type": "code",
   "execution_count": null,
   "metadata": {},
   "outputs": [],
   "source": [
    "sns.boxplot(x=\"admin1Name_en\", y=\"Total_Population\", data=Fulltable,palette='rainbow')\n"
   ]
  },
  {
   "cell_type": "code",
   "execution_count": null,
   "metadata": {},
   "outputs": [],
   "source": [
    "Not_Addis_Dire = Fulltable[ (Fulltable['admin1Name_en']!='Dire Dawa') &(Fulltable['admin1Name_en']!='Addis Ababa') ]\n",
    "Not_Addis_Dire = Fulltable[ (Fulltable['admin1Name_en']!='Dire Dawa') &(Fulltable['admin1Name_en']!='Addis Ababa') ]"
   ]
  },
  {
   "cell_type": "code",
   "execution_count": null,
   "metadata": {},
   "outputs": [],
   "source": [
    "Not_Addis_Dire"
   ]
  },
  {
   "cell_type": "code",
   "execution_count": null,
   "metadata": {},
   "outputs": [],
   "source": [
    "sns.boxplot(x=\"admin1Name_en\", y=\"Population_Density\", data=Not_Addis_Dire,palette='rainbow')"
   ]
  }
 ],
 "metadata": {
  "kernelspec": {
   "display_name": "Python 3",
   "language": "python",
   "name": "python3"
  },
  "language_info": {
   "codemirror_mode": {
    "name": "ipython",
    "version": 3
   },
   "file_extension": ".py",
   "mimetype": "text/x-python",
   "name": "python",
   "nbconvert_exporter": "python",
   "pygments_lexer": "ipython3",
   "version": "3.7.6"
  }
 },
 "nbformat": 4,
 "nbformat_minor": 4
}
